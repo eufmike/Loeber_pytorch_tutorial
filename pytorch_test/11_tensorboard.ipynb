{
 "metadata": {
  "language_info": {
   "codemirror_mode": {
    "name": "ipython",
    "version": 3
   },
   "file_extension": ".py",
   "mimetype": "text/x-python",
   "name": "python",
   "nbconvert_exporter": "python",
   "pygments_lexer": "ipython3",
   "version": "3.7.10"
  },
  "orig_nbformat": 2,
  "kernelspec": {
   "name": "python3710jvsc74a57bd0772ac0f47d6083fb90dd87824821072ecf71af2b0dff3cc6762367c4c4ebc6fc",
   "display_name": "Python 3.7.10 64-bit ('msmonai': conda)"
  },
  "metadata": {
   "interpreter": {
    "hash": "772ac0f47d6083fb90dd87824821072ecf71af2b0dff3cc6762367c4c4ebc6fc"
   }
  }
 },
 "nbformat": 4,
 "nbformat_minor": 2,
 "cells": [
  {
   "cell_type": "code",
   "execution_count": 1,
   "metadata": {},
   "outputs": [],
   "source": [
    "import torch\n",
    "import torch.nn as nn\n",
    "import torchvision\n",
    "import torchvision.transforms as transforms\n",
    "import matplotlib.pyplot as plt\n",
    "\n",
    "############## TENSORBOARD ########################\n",
    "import sys\n",
    "import torch.nn.functional as F\n",
    "from torch.utils.tensorboard import SummaryWriter\n",
    "# default `log_dir` is \"runs\" - we'll be more specific here\n",
    "writer = SummaryWriter('runs/mnist1')\n",
    "###################################################\n",
    "\n",
    "# Device configuration\n",
    "device = torch.device('cuda' if torch.cuda.is_available() else 'cpu')\n",
    "# device = 'cpu'"
   ]
  },
  {
   "cell_type": "code",
   "execution_count": 2,
   "metadata": {},
   "outputs": [
    {
     "output_type": "display_data",
     "data": {
      "text/plain": "Reusing TensorBoard on port 6006 (pid 237493), started 0:12:15 ago. (Use '!kill 237493' to kill it.)"
     },
     "metadata": {}
    }
   ],
   "source": [
    "%load_ext tensorboard\n",
    "%tensorboard --logdir=runs"
   ]
  },
  {
   "cell_type": "code",
   "execution_count": 3,
   "metadata": {},
   "outputs": [],
   "source": [
    "# Hyper-parameters \n",
    "input_size = 28*28 # 28x28\n",
    "hidden_size = 500 \n",
    "num_classes = 10\n",
    "num_epochs = 4\n",
    "batch_size = 64\n",
    "learning_rate = 0.01\n",
    "\n",
    "datadir = './data/MNIST'\n",
    "# MNIST dataset \n",
    "train_dataset = torchvision.datasets.MNIST(root=datadir, \n",
    "                                           train=True, \n",
    "                                           transform=transforms.ToTensor(),  \n",
    "                                           download=False)\n",
    "\n",
    "test_dataset = torchvision.datasets.MNIST(root=datadir, \n",
    "                                          train=False, \n",
    "                                          transform=transforms.ToTensor(),\n",
    "                                          download=False\n",
    "                                          )\n",
    "\n",
    "# Data loader\n",
    "train_loader = torch.utils.data.DataLoader(dataset=train_dataset, \n",
    "                                           batch_size=batch_size, \n",
    "                                           shuffle=True)\n",
    "\n",
    "test_loader = torch.utils.data.DataLoader(dataset=test_dataset, \n",
    "                                          batch_size=batch_size, \n",
    "                                          shuffle=False)"
   ]
  },
  {
   "cell_type": "code",
   "execution_count": 4,
   "metadata": {},
   "outputs": [
    {
     "output_type": "display_data",
     "data": {
      "text/plain": "<Figure size 432x288 with 6 Axes>",
      "image/svg+xml": "<?xml version=\"1.0\" encoding=\"utf-8\" standalone=\"no\"?>\n<!DOCTYPE svg PUBLIC \"-//W3C//DTD SVG 1.1//EN\"\n  \"http://www.w3.org/Graphics/SVG/1.1/DTD/svg11.dtd\">\n<!-- Created with matplotlib (https://matplotlib.org/) -->\n<svg height=\"250.193165pt\" version=\"1.1\" viewBox=\"0 0 368.925 250.193165\" width=\"368.925pt\" xmlns=\"http://www.w3.org/2000/svg\" xmlns:xlink=\"http://www.w3.org/1999/xlink\">\n <defs>\n  <style type=\"text/css\">\n*{stroke-linecap:butt;stroke-linejoin:round;}\n  </style>\n </defs>\n <g id=\"figure_1\">\n  <g id=\"patch_1\">\n   <path d=\"M -0 250.193165 \nL 368.925 250.193165 \nL 368.925 0 \nL -0 0 \nz\n\" style=\"fill:none;\"/>\n  </g>\n  <g id=\"axes_1\">\n   <g id=\"patch_2\">\n    <path d=\"M 26.925 107.711404 \nL 125.395588 107.711404 \nL 125.395588 9.240815 \nL 26.925 9.240815 \nz\n\" style=\"fill:#ffffff;\"/>\n   </g>\n   <g clip-path=\"url(#p3359e5d80f)\">\n    <image height=\"99\" id=\"imagea10abd2f89\" transform=\"scale(1 -1)translate(0 -99)\" width=\"99\" x=\"26.925\" xlink:href=\"data:image/png;base64,\niVBORw0KGgoAAAANSUhEUgAAAGMAAABjCAYAAACPO76VAAAABHNCSVQICAgIfAhkiAAAA5dJREFUeJztnM8r+3Ecx9++46BcRrmsiZSSYmgnZX5cRHLgxNnJX+BgcXBx3UG5q6VWK5eddkBrxEGIhAtJKSlEUb631/f9+tR81+zNc9vzcXq+etX2qkevz/uz7dOqjDGfhkDw57cHIP+gDCAoA4jq3x7AZn5+XtXLy8uSDw8PVW94eFjyw8OD28F+CG4GEJQBBNRl6iu6urpUvbu7K3l8fFz1zs7OfmSmYsPNAIIygKAMIKDOjO3tbVU/Pz9LrqurU73W1tacvVKFmwEEZQABdZna2dlRdSwWk+z9dF6OcDOAoAwgKAMIqDPDy9ramuSZmRnVa2pqkhyJRFTv4OBA1Z+fpfFjJjcDCMoAosqUyAMJbW1tqv7qm9mJiQlVb25uOpmp2HAzgKAMICgDiJI5M3w+n6qz2azk3t5e1bu8vFT1yMhIzh4S3AwgKAOIkrlMeWloaJC8t7enei0tLaqOx+OSp6en3Q72DbgZQFAGEJQBRMmeGTZjY2OqTiaTqn55eZFs3+Yao2+RfxtuBhCUAURZXKa8RKNRVS8uLkpOpVKqNzo6+hMj5QU3AwjKAIIygCjLM6O2tlbV9sNxHR0dqjc0NCQ5k8m4Hew/cDOAoAwgoJ+bKpTX11dV27ez3d3dqre0tCTZe5v7/v7uYLrccDOAoAwgKAOIsry19dLX1yc5nU6rXk1NjeSBgQHV29racjqXF24GEJQBBGUAURFnho39ucIYYxYWFiQ/Pj6qXn9/v+Tj42O3gxluBhSUAUTFXaYaGxtVfXR0lLM3NTUlOZFIuB3McDOgoAwgKAOIijszvExOTkre2NhQPft2dnBwUPVc/EklNwMIygAC+jLl9/slh0Ih1bP/BSEcDuf9mm9vb6o+Pz+XfHp6qnr19fWS5+bmVG91dTXv98wXbgYQlAEEZQDh5OkQ+3/KjTGms7NTsve63N7eLrmnp0f17F/eAoGA6l1fX0sOBoN5z/bx8aHq+/t7yfYZ4cX+g0pXcDOAoAwgnNzaXl1dqbq5ubmg13l6epJ8cnLynZEK4ubmRvLKyorq7e/vF/39uBlAUAYQlAGEkzPD/oXMGGNmZ2cl397eqp799cT6+rrq3d3dSb64uCjmiJBwM4CgDCCgv7WtNLgZQFAGEJQBBGUAQRlAUAYQlAEEZQBBGUBQBhCUAQRlAEEZQFAGEJQBBGUAQRlAUAYQlAEEZQBBGUBQBhCUAQRlAPEX2ZXC7semg+UAAAAASUVORK5CYII=\" y=\"-8.711404\"/>\n   </g>\n   <g id=\"matplotlib.axis_1\">\n    <g id=\"xtick_1\">\n     <g id=\"line2d_1\">\n      <defs>\n       <path d=\"M 0 0 \nL 0 3.5 \n\" id=\"ma242b6736d\" style=\"stroke:#000000;stroke-width:0.8;\"/>\n      </defs>\n      <g>\n       <use style=\"stroke:#000000;stroke-width:0.8;\" x=\"28.683403\" xlink:href=\"#ma242b6736d\" y=\"107.711404\"/>\n      </g>\n     </g>\n     <g id=\"text_1\">\n      <!-- 0 -->\n      <defs>\n       <path d=\"M 31.78125 66.40625 \nQ 24.171875 66.40625 20.328125 58.90625 \nQ 16.5 51.421875 16.5 36.375 \nQ 16.5 21.390625 20.328125 13.890625 \nQ 24.171875 6.390625 31.78125 6.390625 \nQ 39.453125 6.390625 43.28125 13.890625 \nQ 47.125 21.390625 47.125 36.375 \nQ 47.125 51.421875 43.28125 58.90625 \nQ 39.453125 66.40625 31.78125 66.40625 \nz\nM 31.78125 74.21875 \nQ 44.046875 74.21875 50.515625 64.515625 \nQ 56.984375 54.828125 56.984375 36.375 \nQ 56.984375 17.96875 50.515625 8.265625 \nQ 44.046875 -1.421875 31.78125 -1.421875 \nQ 19.53125 -1.421875 13.0625 8.265625 \nQ 6.59375 17.96875 6.59375 36.375 \nQ 6.59375 54.828125 13.0625 64.515625 \nQ 19.53125 74.21875 31.78125 74.21875 \nz\n\" id=\"DejaVuSans-48\"/>\n      </defs>\n      <g transform=\"translate(25.502153 122.309841)scale(0.1 -0.1)\">\n       <use xlink:href=\"#DejaVuSans-48\"/>\n      </g>\n     </g>\n    </g>\n    <g id=\"xtick_2\">\n     <g id=\"line2d_2\">\n      <g>\n       <use style=\"stroke:#000000;stroke-width:0.8;\" x=\"63.851471\" xlink:href=\"#ma242b6736d\" y=\"107.711404\"/>\n      </g>\n     </g>\n     <g id=\"text_2\">\n      <!-- 10 -->\n      <defs>\n       <path d=\"M 12.40625 8.296875 \nL 28.515625 8.296875 \nL 28.515625 63.921875 \nL 10.984375 60.40625 \nL 10.984375 69.390625 \nL 28.421875 72.90625 \nL 38.28125 72.90625 \nL 38.28125 8.296875 \nL 54.390625 8.296875 \nL 54.390625 0 \nL 12.40625 0 \nz\n\" id=\"DejaVuSans-49\"/>\n      </defs>\n      <g transform=\"translate(57.488971 122.309841)scale(0.1 -0.1)\">\n       <use xlink:href=\"#DejaVuSans-49\"/>\n       <use x=\"63.623047\" xlink:href=\"#DejaVuSans-48\"/>\n      </g>\n     </g>\n    </g>\n    <g id=\"xtick_3\">\n     <g id=\"line2d_3\">\n      <g>\n       <use style=\"stroke:#000000;stroke-width:0.8;\" x=\"99.019538\" xlink:href=\"#ma242b6736d\" y=\"107.711404\"/>\n      </g>\n     </g>\n     <g id=\"text_3\">\n      <!-- 20 -->\n      <defs>\n       <path d=\"M 19.1875 8.296875 \nL 53.609375 8.296875 \nL 53.609375 0 \nL 7.328125 0 \nL 7.328125 8.296875 \nQ 12.9375 14.109375 22.625 23.890625 \nQ 32.328125 33.6875 34.8125 36.53125 \nQ 39.546875 41.84375 41.421875 45.53125 \nQ 43.3125 49.21875 43.3125 52.78125 \nQ 43.3125 58.59375 39.234375 62.25 \nQ 35.15625 65.921875 28.609375 65.921875 \nQ 23.96875 65.921875 18.8125 64.3125 \nQ 13.671875 62.703125 7.8125 59.421875 \nL 7.8125 69.390625 \nQ 13.765625 71.78125 18.9375 73 \nQ 24.125 74.21875 28.421875 74.21875 \nQ 39.75 74.21875 46.484375 68.546875 \nQ 53.21875 62.890625 53.21875 53.421875 \nQ 53.21875 48.921875 51.53125 44.890625 \nQ 49.859375 40.875 45.40625 35.40625 \nQ 44.1875 33.984375 37.640625 27.21875 \nQ 31.109375 20.453125 19.1875 8.296875 \nz\n\" id=\"DejaVuSans-50\"/>\n      </defs>\n      <g transform=\"translate(92.657038 122.309841)scale(0.1 -0.1)\">\n       <use xlink:href=\"#DejaVuSans-50\"/>\n       <use x=\"63.623047\" xlink:href=\"#DejaVuSans-48\"/>\n      </g>\n     </g>\n    </g>\n   </g>\n   <g id=\"matplotlib.axis_2\">\n    <g id=\"ytick_1\">\n     <g id=\"line2d_4\">\n      <defs>\n       <path d=\"M 0 0 \nL -3.5 0 \n\" id=\"m4e2c79d7ad\" style=\"stroke:#000000;stroke-width:0.8;\"/>\n      </defs>\n      <g>\n       <use style=\"stroke:#000000;stroke-width:0.8;\" x=\"26.925\" xlink:href=\"#m4e2c79d7ad\" y=\"10.999219\"/>\n      </g>\n     </g>\n     <g id=\"text_4\">\n      <!-- 0 -->\n      <g transform=\"translate(13.5625 14.798437)scale(0.1 -0.1)\">\n       <use xlink:href=\"#DejaVuSans-48\"/>\n      </g>\n     </g>\n    </g>\n    <g id=\"ytick_2\">\n     <g id=\"line2d_5\">\n      <g>\n       <use style=\"stroke:#000000;stroke-width:0.8;\" x=\"26.925\" xlink:href=\"#m4e2c79d7ad\" y=\"46.167286\"/>\n      </g>\n     </g>\n     <g id=\"text_5\">\n      <!-- 10 -->\n      <g transform=\"translate(7.2 49.966505)scale(0.1 -0.1)\">\n       <use xlink:href=\"#DejaVuSans-49\"/>\n       <use x=\"63.623047\" xlink:href=\"#DejaVuSans-48\"/>\n      </g>\n     </g>\n    </g>\n    <g id=\"ytick_3\">\n     <g id=\"line2d_6\">\n      <g>\n       <use style=\"stroke:#000000;stroke-width:0.8;\" x=\"26.925\" xlink:href=\"#m4e2c79d7ad\" y=\"81.335353\"/>\n      </g>\n     </g>\n     <g id=\"text_6\">\n      <!-- 20 -->\n      <g transform=\"translate(7.2 85.134572)scale(0.1 -0.1)\">\n       <use xlink:href=\"#DejaVuSans-50\"/>\n       <use x=\"63.623047\" xlink:href=\"#DejaVuSans-48\"/>\n      </g>\n     </g>\n    </g>\n   </g>\n   <g id=\"patch_3\">\n    <path d=\"M 26.925 107.711404 \nL 26.925 9.240815 \n\" style=\"fill:none;stroke:#000000;stroke-linecap:square;stroke-linejoin:miter;stroke-width:0.8;\"/>\n   </g>\n   <g id=\"patch_4\">\n    <path d=\"M 125.395588 107.711404 \nL 125.395588 9.240815 \n\" style=\"fill:none;stroke:#000000;stroke-linecap:square;stroke-linejoin:miter;stroke-width:0.8;\"/>\n   </g>\n   <g id=\"patch_5\">\n    <path d=\"M 26.925 107.711404 \nL 125.395588 107.711404 \n\" style=\"fill:none;stroke:#000000;stroke-linecap:square;stroke-linejoin:miter;stroke-width:0.8;\"/>\n   </g>\n   <g id=\"patch_6\">\n    <path d=\"M 26.925 9.240815 \nL 125.395588 9.240815 \n\" style=\"fill:none;stroke:#000000;stroke-linecap:square;stroke-linejoin:miter;stroke-width:0.8;\"/>\n   </g>\n  </g>\n  <g id=\"axes_2\">\n   <g id=\"patch_7\">\n    <path d=\"M 145.089706 107.711404 \nL 243.560294 107.711404 \nL 243.560294 9.240815 \nL 145.089706 9.240815 \nz\n\" style=\"fill:#ffffff;\"/>\n   </g>\n   <g clip-path=\"url(#p503634ce3a)\">\n    <image height=\"99\" id=\"imageb73d0007cc\" transform=\"scale(1 -1)translate(0 -99)\" width=\"99\" x=\"145.089706\" xlink:href=\"data:image/png;base64,\niVBORw0KGgoAAAANSUhEUgAAAGMAAABjCAYAAACPO76VAAAABHNCSVQICAgIfAhkiAAAA+FJREFUeJztnM0rbVEYxpfr46TUUQZSSpkSBqSMxQgTZegvUPI58pFiShmYGTDxkY+UgZF0ykeZGIjJqZOJFEokObh39t71rto69j17nYf7/EbP27v3Waue3rXW2XvtlWeM+W0IBL9y3QHyF5oBBM0AgmYAQTOAoBlA0AwgaAYQNAMImgEEzQCCZgBBM4CgGUDQDCBoBhA0A4iCXHdgZGREdGFhYcb31dTUiO7p6cn4vsXFRRWnUqnAazc2NkRfXl5m3EZYWBlA0Awg8oznDQmbm5sq7urq8tn8l3h7exP98fEReN3Ozo6KT09PA69NJBKij4+PVY6VAQTNAIJmAOF9znh5eVHxV5azYVlfXxd9fX2tcuXl5aK/skQOy/j4uOjp6WmVY2UAQTOAgB6m6urqRN/c3IRu8+HhQXQ6nQ5sPx6PB/5GaWmpigcGBjJq+/39XcWjo6Oin5+fVY6VAQTNAIJmAAE9Z1RWVop2l6Q/EVYGEDQDCO/D1MzMjIrtpZ7L9va26N7eXpV7enrKbscAYGUAQTOAoBlAeJ8zysrKVLy7uyu6qakp8L65uTkVDw4OZrdjALAygKAZQHjfN3V3d6die6m7tramcva/84aGBpUrKSkR/VOWuawMIGgGEDQDCO9L2884PDxUcXNzc+C19lL3pyxzWRlA0AwgaAYQUHNGRUWFis/OzkS7j1Fub29Ft7S0qFwymYygd9HDygCCZgABNUy52G/62traVC4Wi4leWlpSub6+PhV/l8clrAwgaAYQNAMI6DnDZnJyUsVjY2OB187Pz6u4v78/ii5lHVYGEDQDiJyfkJAp7ue8r6+voouKilTO/Rxsa2tL9MHBQQS9yw6sDCBoBhA0A4hvs7R1GR4eFj01NaVy7hxycnIiurW1VeXc7+pyCSsDCJoBhPdhqqqqSsWPj4+i7+/vQ/2m/RLKGGNqa2sDr3WHqf39/VBtRgErAwiaAQTNAMLL45COjg7R7klsFxcXotvb21Uu08+NV1ZWVDwxMaFiHyf3ZANWBhA0AwgvS9vGxkbR7n7a/Px80efn5yrX2dkp2t4nZYzeZOD+43YPYqyvrxc9OzurckNDQ5/23SesDCBoBhA0AwgvS1v7LZ391s0YY7q7u0Xb55sbo/fMumeR7+3tia6urlY5e45wcb8pRIKVAQTNACLnL5dWV1dF20NWNrGHO/ep7dXVVSRthoGVAQTNAIJmAJHzOcPGfTRRXFws2j5w2JjP55eFhQUVHx0diV5eXv6XLkYKKwMImgEE1DD1v8PKAIJmAEEzgKAZQNAMIGgGEDQDCJoBBM0AgmYA8QfVMe7UoM8ZfgAAAABJRU5ErkJggg==\" y=\"-8.711404\"/>\n   </g>\n   <g id=\"matplotlib.axis_3\">\n    <g id=\"xtick_4\">\n     <g id=\"line2d_7\">\n      <g>\n       <use style=\"stroke:#000000;stroke-width:0.8;\" x=\"146.848109\" xlink:href=\"#ma242b6736d\" y=\"107.711404\"/>\n      </g>\n     </g>\n     <g id=\"text_7\">\n      <!-- 0 -->\n      <g transform=\"translate(143.666859 122.309841)scale(0.1 -0.1)\">\n       <use xlink:href=\"#DejaVuSans-48\"/>\n      </g>\n     </g>\n    </g>\n    <g id=\"xtick_5\">\n     <g id=\"line2d_8\">\n      <g>\n       <use style=\"stroke:#000000;stroke-width:0.8;\" x=\"182.016176\" xlink:href=\"#ma242b6736d\" y=\"107.711404\"/>\n      </g>\n     </g>\n     <g id=\"text_8\">\n      <!-- 10 -->\n      <g transform=\"translate(175.653676 122.309841)scale(0.1 -0.1)\">\n       <use xlink:href=\"#DejaVuSans-49\"/>\n       <use x=\"63.623047\" xlink:href=\"#DejaVuSans-48\"/>\n      </g>\n     </g>\n    </g>\n    <g id=\"xtick_6\">\n     <g id=\"line2d_9\">\n      <g>\n       <use style=\"stroke:#000000;stroke-width:0.8;\" x=\"217.184244\" xlink:href=\"#ma242b6736d\" y=\"107.711404\"/>\n      </g>\n     </g>\n     <g id=\"text_9\">\n      <!-- 20 -->\n      <g transform=\"translate(210.821744 122.309841)scale(0.1 -0.1)\">\n       <use xlink:href=\"#DejaVuSans-50\"/>\n       <use x=\"63.623047\" xlink:href=\"#DejaVuSans-48\"/>\n      </g>\n     </g>\n    </g>\n   </g>\n   <g id=\"matplotlib.axis_4\">\n    <g id=\"ytick_4\">\n     <g id=\"line2d_10\">\n      <g>\n       <use style=\"stroke:#000000;stroke-width:0.8;\" x=\"145.089706\" xlink:href=\"#m4e2c79d7ad\" y=\"10.999219\"/>\n      </g>\n     </g>\n     <g id=\"text_10\">\n      <!-- 0 -->\n      <g transform=\"translate(131.727206 14.798437)scale(0.1 -0.1)\">\n       <use xlink:href=\"#DejaVuSans-48\"/>\n      </g>\n     </g>\n    </g>\n    <g id=\"ytick_5\">\n     <g id=\"line2d_11\">\n      <g>\n       <use style=\"stroke:#000000;stroke-width:0.8;\" x=\"145.089706\" xlink:href=\"#m4e2c79d7ad\" y=\"46.167286\"/>\n      </g>\n     </g>\n     <g id=\"text_11\">\n      <!-- 10 -->\n      <g transform=\"translate(125.364706 49.966505)scale(0.1 -0.1)\">\n       <use xlink:href=\"#DejaVuSans-49\"/>\n       <use x=\"63.623047\" xlink:href=\"#DejaVuSans-48\"/>\n      </g>\n     </g>\n    </g>\n    <g id=\"ytick_6\">\n     <g id=\"line2d_12\">\n      <g>\n       <use style=\"stroke:#000000;stroke-width:0.8;\" x=\"145.089706\" xlink:href=\"#m4e2c79d7ad\" y=\"81.335353\"/>\n      </g>\n     </g>\n     <g id=\"text_12\">\n      <!-- 20 -->\n      <g transform=\"translate(125.364706 85.134572)scale(0.1 -0.1)\">\n       <use xlink:href=\"#DejaVuSans-50\"/>\n       <use x=\"63.623047\" xlink:href=\"#DejaVuSans-48\"/>\n      </g>\n     </g>\n    </g>\n   </g>\n   <g id=\"patch_8\">\n    <path d=\"M 145.089706 107.711404 \nL 145.089706 9.240815 \n\" style=\"fill:none;stroke:#000000;stroke-linecap:square;stroke-linejoin:miter;stroke-width:0.8;\"/>\n   </g>\n   <g id=\"patch_9\">\n    <path d=\"M 243.560294 107.711404 \nL 243.560294 9.240815 \n\" style=\"fill:none;stroke:#000000;stroke-linecap:square;stroke-linejoin:miter;stroke-width:0.8;\"/>\n   </g>\n   <g id=\"patch_10\">\n    <path d=\"M 145.089706 107.711404 \nL 243.560294 107.711404 \n\" style=\"fill:none;stroke:#000000;stroke-linecap:square;stroke-linejoin:miter;stroke-width:0.8;\"/>\n   </g>\n   <g id=\"patch_11\">\n    <path d=\"M 145.089706 9.240815 \nL 243.560294 9.240815 \n\" style=\"fill:none;stroke:#000000;stroke-linecap:square;stroke-linejoin:miter;stroke-width:0.8;\"/>\n   </g>\n  </g>\n  <g id=\"axes_3\">\n   <g id=\"patch_12\">\n    <path d=\"M 263.254412 107.711404 \nL 361.725 107.711404 \nL 361.725 9.240815 \nL 263.254412 9.240815 \nz\n\" style=\"fill:#ffffff;\"/>\n   </g>\n   <g clip-path=\"url(#p687aae19e3)\">\n    <image height=\"99\" id=\"imagefd0548b8ed\" transform=\"scale(1 -1)translate(0 -99)\" width=\"99\" x=\"263.254412\" xlink:href=\"data:image/png;base64,\niVBORw0KGgoAAAANSUhEUgAAAGMAAABjCAYAAACPO76VAAAABHNCSVQICAgIfAhkiAAAAs9JREFUeJzt3L9qKkEUBvCNXisLsRAE7cU3ELQRaxFREHwBwUaw8BUE8UlsLPzTimgpqNhYaic2VoqNJN1kzqC5N9fs+u3m+1VnOCkGvpydYaN5syzr3SIIvldvgD4xDCAMAwjDAMIwgDAMIAwDCMMAwjCAMAwgDAMIwwDCMID8efUGdIFAQKyn06mqj8ej6FWrVVVfLhd7N+YQTgYQhgGEYQCBPjPC4bCqU6mU6DUaDVW32217N+YQTgYQhgEE6jFlXlHH47GqE4mE6JXLZVV3Oh3Ru91uNuzOfpwMIAwDCMMA8mYBf4gtk8moejKZiJ7f71d1LpcTPfNn3YKTAYRhAIG62prm87mqD4eD6MViMae3YztOBhCGAYRhAIE+M3TD4VCsa7WaqvP5vOjxaktPYxhAXPOY2u/3D3v6H6HcjJMBhGEAYRhAoN/a6qLRqFivVitVn04n0Usmk47s6adxMoAwDCCuudqab21ns5mqS6WS6BWLRbHu9/v2bewHcTKAMAwgDAOIa84M03q9VrX+gbZ7a54Z9G0MAwjDAOKa1yEm/fsao9FI9Ha7nVin02lVX69XW/f1DE4GEIYBxLWPKV232xXrZrMp1oVCQdWDwcCRPf0PTgYQhgGEYQBx7esQ3Waz+bLfarVUzTOD/gnDAOKJx5T+33fuiUQiDu3kOZwMIAwDCMMA4okzw3xLu1gsxFo/M4LBoOidz2fb9vVdnAwgDAOIJ97amswPJPR6PVVns1nR+9u12EmcDCAMAwjDAOKJq61pu92KtX59rVQqosczg+5iGEA8ebU16f/3tl6vi14oFHJ6Ow9xMoAwDCAMA4gnr7Ym/WvK5ltb/ft/r/4eBycDCMMA8iseU8vlUtU+n/z9i8fjTm/nIU4GEIYBhGEA+RWvQ9yCkwGEYQBhGEAYBhCGAYRhAGEYQBgGEIYBhGEAYRhAGAYQhgHkAxNvhHvJzD/vAAAAAElFTkSuQmCC\" y=\"-8.711404\"/>\n   </g>\n   <g id=\"matplotlib.axis_5\">\n    <g id=\"xtick_7\">\n     <g id=\"line2d_13\">\n      <g>\n       <use style=\"stroke:#000000;stroke-width:0.8;\" x=\"265.012815\" xlink:href=\"#ma242b6736d\" y=\"107.711404\"/>\n      </g>\n     </g>\n     <g id=\"text_13\">\n      <!-- 0 -->\n      <g transform=\"translate(261.831565 122.309841)scale(0.1 -0.1)\">\n       <use xlink:href=\"#DejaVuSans-48\"/>\n      </g>\n     </g>\n    </g>\n    <g id=\"xtick_8\">\n     <g id=\"line2d_14\">\n      <g>\n       <use style=\"stroke:#000000;stroke-width:0.8;\" x=\"300.180882\" xlink:href=\"#ma242b6736d\" y=\"107.711404\"/>\n      </g>\n     </g>\n     <g id=\"text_14\">\n      <!-- 10 -->\n      <g transform=\"translate(293.818382 122.309841)scale(0.1 -0.1)\">\n       <use xlink:href=\"#DejaVuSans-49\"/>\n       <use x=\"63.623047\" xlink:href=\"#DejaVuSans-48\"/>\n      </g>\n     </g>\n    </g>\n    <g id=\"xtick_9\">\n     <g id=\"line2d_15\">\n      <g>\n       <use style=\"stroke:#000000;stroke-width:0.8;\" x=\"335.34895\" xlink:href=\"#ma242b6736d\" y=\"107.711404\"/>\n      </g>\n     </g>\n     <g id=\"text_15\">\n      <!-- 20 -->\n      <g transform=\"translate(328.98645 122.309841)scale(0.1 -0.1)\">\n       <use xlink:href=\"#DejaVuSans-50\"/>\n       <use x=\"63.623047\" xlink:href=\"#DejaVuSans-48\"/>\n      </g>\n     </g>\n    </g>\n   </g>\n   <g id=\"matplotlib.axis_6\">\n    <g id=\"ytick_7\">\n     <g id=\"line2d_16\">\n      <g>\n       <use style=\"stroke:#000000;stroke-width:0.8;\" x=\"263.254412\" xlink:href=\"#m4e2c79d7ad\" y=\"10.999219\"/>\n      </g>\n     </g>\n     <g id=\"text_16\">\n      <!-- 0 -->\n      <g transform=\"translate(249.891912 14.798437)scale(0.1 -0.1)\">\n       <use xlink:href=\"#DejaVuSans-48\"/>\n      </g>\n     </g>\n    </g>\n    <g id=\"ytick_8\">\n     <g id=\"line2d_17\">\n      <g>\n       <use style=\"stroke:#000000;stroke-width:0.8;\" x=\"263.254412\" xlink:href=\"#m4e2c79d7ad\" y=\"46.167286\"/>\n      </g>\n     </g>\n     <g id=\"text_17\">\n      <!-- 10 -->\n      <g transform=\"translate(243.529412 49.966505)scale(0.1 -0.1)\">\n       <use xlink:href=\"#DejaVuSans-49\"/>\n       <use x=\"63.623047\" xlink:href=\"#DejaVuSans-48\"/>\n      </g>\n     </g>\n    </g>\n    <g id=\"ytick_9\">\n     <g id=\"line2d_18\">\n      <g>\n       <use style=\"stroke:#000000;stroke-width:0.8;\" x=\"263.254412\" xlink:href=\"#m4e2c79d7ad\" y=\"81.335353\"/>\n      </g>\n     </g>\n     <g id=\"text_18\">\n      <!-- 20 -->\n      <g transform=\"translate(243.529412 85.134572)scale(0.1 -0.1)\">\n       <use xlink:href=\"#DejaVuSans-50\"/>\n       <use x=\"63.623047\" xlink:href=\"#DejaVuSans-48\"/>\n      </g>\n     </g>\n    </g>\n   </g>\n   <g id=\"patch_13\">\n    <path d=\"M 263.254412 107.711404 \nL 263.254412 9.240815 \n\" style=\"fill:none;stroke:#000000;stroke-linecap:square;stroke-linejoin:miter;stroke-width:0.8;\"/>\n   </g>\n   <g id=\"patch_14\">\n    <path d=\"M 361.725 107.711404 \nL 361.725 9.240815 \n\" style=\"fill:none;stroke:#000000;stroke-linecap:square;stroke-linejoin:miter;stroke-width:0.8;\"/>\n   </g>\n   <g id=\"patch_15\">\n    <path d=\"M 263.254412 107.711404 \nL 361.725 107.711404 \n\" style=\"fill:none;stroke:#000000;stroke-linecap:square;stroke-linejoin:miter;stroke-width:0.8;\"/>\n   </g>\n   <g id=\"patch_16\">\n    <path d=\"M 263.254412 9.240815 \nL 361.725 9.240815 \n\" style=\"fill:none;stroke:#000000;stroke-linecap:square;stroke-linejoin:miter;stroke-width:0.8;\"/>\n   </g>\n  </g>\n  <g id=\"axes_4\">\n   <g id=\"patch_17\">\n    <path d=\"M 26.925 226.31504 \nL 125.395588 226.31504 \nL 125.395588 127.844452 \nL 26.925 127.844452 \nz\n\" style=\"fill:#ffffff;\"/>\n   </g>\n   <g clip-path=\"url(#pd9506633c0)\">\n    <image height=\"99\" id=\"imagefa130ab7e7\" transform=\"scale(1 -1)translate(0 -99)\" width=\"99\" x=\"26.925\" xlink:href=\"data:image/png;base64,\niVBORw0KGgoAAAANSUhEUgAAAGMAAABjCAYAAACPO76VAAAABHNCSVQICAgIfAhkiAAABARJREFUeJztnM0rfUEYx+fy8x+wsUAoZeslCy9lhZCU3I3ujoWQpZTYWMpGRFlKioQkO6W4Cwub62XHRsJCycrLb/eYZ+rcbsc54xvfz+o7PefOTH09c8bMmUkYYz4NgSDvpztAvqAZQNAMIGgGEDQDCJoBBM0AgmYAQTOAoBlA0AwgaAYQNAOIfz/dAZu2tjZVHhwcFN3V1aViOzs7opeXl1UskUiociaTEX17e/vtfsYFMwMImgEEzQAiYTzv9DU3N6tyT0+P6LGxMRX7+PgI1UZenv4bGx0dFb2wsBCqTh8wM4CgGUB4GaZKS0tFn5ycqFhRUZFod3iJapi6v78XfXFxoWL29Pnu7k7FXl9fQ7UfFmYGEDQDCJoBhJflkN7eXtH2O8IXdptu+5eXl6KXlpZUbGRkJN6OOTAzgKAZQHiZ2l5fX4uuqKgIfK6zszMw5q7MFhcXBz4b1RQ5Pz8/1O/CwswAgmYAQTOA8PLOuLq6El1eXh74XEFBQSTt7e/vq3JVVZXokpKSnOs5ODgQ7e40xgEzAwiaAQTUBwlR0dHRocrz8/Oih4eHc66nurpadGNjo4odHx+H7F0wzAwgaAYQNAOIXzm1dbFXau33gDHGrK+viy4sLFQxe1nF3i00xpiGhgbRUX0Yx8wAgmYA4WVqu7u7K9r9NsoHDw8Poo+OjlRsdnZW9NzcXGAd7qZUHEMqMwMImgEEzQDCy9S2srJStD3NdfG9s2aMMWVlZaI3NjZUrK6uTrS7W7i2tiZ6YGAgkr4wM4CgGUDQDCC8L6Fn+1IjnU6rcl9fn+i4zuJ9fn69Mt2+2WU3Nj09HXlfmBlA0AwgoHb6amtrVXl1dVV0MplUscfHx0ja7O7uFl1TUxNJnWFhZgBBM4CgGUB4eWe8vb2Jdsd6d3fNpqWlRfTp6amKbW5uip6ZmVGxbGfx7POFxhgzMTER+Kxdz9TUlIrFMdVmZgBBM4DwfkOCPfQYo6ev9gqqMbmfq3CPfx0eHqry8/Oz6NbWVhWbnJwMrNe+WWFxcTGnvnwHZgYQNAMImgGE93eGi32Wor29XcXCnsV7enpS5ZeXF9Hu1DYbPNP3h6EZQPz4MGXz/v6uylHdqpOtnpubG9H9/f0qdnZ2Fqr9sDAzgKAZQNAMIKB2+sbHx1XZvkyyqakpdL1bW1ui3bN45+fnon2/I1yYGUDQDCCgprYu9pmI7e1tFauvrw/8He+1Jd+GZgBBM4CAmtq62GfxUqmUirmXBf8GmBlA0AwgoIcpG/ee8pWVFdFDQ0Mq5v4nvbe3F1/HIoSZAQTNAIJmAAG9HPLXYGYAQTOAoBlA0AwgaAYQNAMImgEEzQCCZgBBM4CgGUDQDCBoBhD/AUJ2/oJFviFLAAAAAElFTkSuQmCC\" y=\"-127.31504\"/>\n   </g>\n   <g id=\"matplotlib.axis_7\">\n    <g id=\"xtick_10\">\n     <g id=\"line2d_19\">\n      <g>\n       <use style=\"stroke:#000000;stroke-width:0.8;\" x=\"28.683403\" xlink:href=\"#ma242b6736d\" y=\"226.31504\"/>\n      </g>\n     </g>\n     <g id=\"text_19\">\n      <!-- 0 -->\n      <g transform=\"translate(25.502153 240.913477)scale(0.1 -0.1)\">\n       <use xlink:href=\"#DejaVuSans-48\"/>\n      </g>\n     </g>\n    </g>\n    <g id=\"xtick_11\">\n     <g id=\"line2d_20\">\n      <g>\n       <use style=\"stroke:#000000;stroke-width:0.8;\" x=\"63.851471\" xlink:href=\"#ma242b6736d\" y=\"226.31504\"/>\n      </g>\n     </g>\n     <g id=\"text_20\">\n      <!-- 10 -->\n      <g transform=\"translate(57.488971 240.913477)scale(0.1 -0.1)\">\n       <use xlink:href=\"#DejaVuSans-49\"/>\n       <use x=\"63.623047\" xlink:href=\"#DejaVuSans-48\"/>\n      </g>\n     </g>\n    </g>\n    <g id=\"xtick_12\">\n     <g id=\"line2d_21\">\n      <g>\n       <use style=\"stroke:#000000;stroke-width:0.8;\" x=\"99.019538\" xlink:href=\"#ma242b6736d\" y=\"226.31504\"/>\n      </g>\n     </g>\n     <g id=\"text_21\">\n      <!-- 20 -->\n      <g transform=\"translate(92.657038 240.913477)scale(0.1 -0.1)\">\n       <use xlink:href=\"#DejaVuSans-50\"/>\n       <use x=\"63.623047\" xlink:href=\"#DejaVuSans-48\"/>\n      </g>\n     </g>\n    </g>\n   </g>\n   <g id=\"matplotlib.axis_8\">\n    <g id=\"ytick_10\">\n     <g id=\"line2d_22\">\n      <g>\n       <use style=\"stroke:#000000;stroke-width:0.8;\" x=\"26.925\" xlink:href=\"#m4e2c79d7ad\" y=\"129.602855\"/>\n      </g>\n     </g>\n     <g id=\"text_22\">\n      <!-- 0 -->\n      <g transform=\"translate(13.5625 133.402074)scale(0.1 -0.1)\">\n       <use xlink:href=\"#DejaVuSans-48\"/>\n      </g>\n     </g>\n    </g>\n    <g id=\"ytick_11\">\n     <g id=\"line2d_23\">\n      <g>\n       <use style=\"stroke:#000000;stroke-width:0.8;\" x=\"26.925\" xlink:href=\"#m4e2c79d7ad\" y=\"164.770922\"/>\n      </g>\n     </g>\n     <g id=\"text_23\">\n      <!-- 10 -->\n      <g transform=\"translate(7.2 168.570141)scale(0.1 -0.1)\">\n       <use xlink:href=\"#DejaVuSans-49\"/>\n       <use x=\"63.623047\" xlink:href=\"#DejaVuSans-48\"/>\n      </g>\n     </g>\n    </g>\n    <g id=\"ytick_12\">\n     <g id=\"line2d_24\">\n      <g>\n       <use style=\"stroke:#000000;stroke-width:0.8;\" x=\"26.925\" xlink:href=\"#m4e2c79d7ad\" y=\"199.93899\"/>\n      </g>\n     </g>\n     <g id=\"text_24\">\n      <!-- 20 -->\n      <g transform=\"translate(7.2 203.738208)scale(0.1 -0.1)\">\n       <use xlink:href=\"#DejaVuSans-50\"/>\n       <use x=\"63.623047\" xlink:href=\"#DejaVuSans-48\"/>\n      </g>\n     </g>\n    </g>\n   </g>\n   <g id=\"patch_18\">\n    <path d=\"M 26.925 226.31504 \nL 26.925 127.844452 \n\" style=\"fill:none;stroke:#000000;stroke-linecap:square;stroke-linejoin:miter;stroke-width:0.8;\"/>\n   </g>\n   <g id=\"patch_19\">\n    <path d=\"M 125.395588 226.31504 \nL 125.395588 127.844452 \n\" style=\"fill:none;stroke:#000000;stroke-linecap:square;stroke-linejoin:miter;stroke-width:0.8;\"/>\n   </g>\n   <g id=\"patch_20\">\n    <path d=\"M 26.925 226.31504 \nL 125.395588 226.31504 \n\" style=\"fill:none;stroke:#000000;stroke-linecap:square;stroke-linejoin:miter;stroke-width:0.8;\"/>\n   </g>\n   <g id=\"patch_21\">\n    <path d=\"M 26.925 127.844452 \nL 125.395588 127.844452 \n\" style=\"fill:none;stroke:#000000;stroke-linecap:square;stroke-linejoin:miter;stroke-width:0.8;\"/>\n   </g>\n  </g>\n  <g id=\"axes_5\">\n   <g id=\"patch_22\">\n    <path d=\"M 145.089706 226.31504 \nL 243.560294 226.31504 \nL 243.560294 127.844452 \nL 145.089706 127.844452 \nz\n\" style=\"fill:#ffffff;\"/>\n   </g>\n   <g clip-path=\"url(#pea307b347c)\">\n    <image height=\"99\" id=\"imagec34fc4f074\" transform=\"scale(1 -1)translate(0 -99)\" width=\"99\" x=\"145.089706\" xlink:href=\"data:image/png;base64,\niVBORw0KGgoAAAANSUhEUgAAAGMAAABjCAYAAACPO76VAAAABHNCSVQICAgIfAhkiAAAA6pJREFUeJztnTtIY0EUhicSEAsbEdFONEUKBSGVYGoFCwttLIR0VooEbCy1sFJIIelsVbQRQbHSUtAyamWRQpT4qAwqBrPdcc5sIm5w5v5s/q86w1nuPfDtuTOZ+zBmjKkaAkFL1AWQLygDCMoAgjKAoAwgKAMIygCCMoCgDCAoA4h41AWE4ODgQOL19XWVOzk5CV1OXdgZQFAGEDHTBLu29/f3Esfj+sq8srIicS6XC1ZTLdgZQFAGEJQBRFPMGaurqxIvLi6q3Ovrq8Tt7e3BaqoFOwMIygCiKX6Bv7291c21tbUFrOR72BlAUAYQlAFEU8wZsVisZowGOwMIygCiKS5T1Wq1ZuwyMDCgxoVCwVtNtWBnAEEZQFAGEJHPGUNDQxInEomGjrG3t/dtvq+v70fHCT1HuLAzgKAMIIJcppLJpMTLy8sqNz4+LnFra2tDx398fFRjd/na2dn5o+O4O7j2jacQsDOAoAwgKAOIIA8k7OzsSDw5Oaly5+fnErvPwf4UdxvDXcr29vZKPDw8XPc4c3NzapzP5xuqp1HYGUBQBhBelrbuErG/v1/iy8tLlbOXts/Pzw2db3d399t8V1eXxHd3d3X/XUtLtP832RlAUAYQlAGElznDfWbV3pnd2tpSuUbniX+hVCpJ7O7w2kvtkZERldvY2PBbmAM7AwjKAIIygPAyZ7y/v6vx7e2txNPT0yo3MzPjo4S63Nzc1M252yqhYWcAQRlARL5ra++UhtgltXdwjTHm7OxM4o6ODpUbHR2VOMSXFNgZQFAGEJQBRJA5Y2pqSuLNzU2VKxaLEg8ODvou5S/W1tYkXlhYULnT01OJx8bGVO7j4+PXa2FnAEEZQAT/QsL29rYaT0xMSJxOp1Xu4uLCez32cvbp6UnlPj8/Je7u7la5h4eHX6+FnQEEZQBBGUAEnzPcnVF7+ehes1OplMQvLy9e63JrMUbf+evp6VE5zhn/OZQBRPDXyNxXteybTUdHRyq3tLRUM/bF/v6+GrsPKPiGnQEEZQBBGUBE/sFI+6O/7t00+1Vkd2npg0wmo8bZbFZi972Ocrn86+dnZwBBGUBE/oWESqUi8eHhocrNz88HrcX+xW+MMVdXVxL7uCy5sDOAoAwgKAOIyOcMm+PjYzWenZ0Nen77zwEZY8z19XXQ87MzgKAMICL/BU6+YGcAQRlAUAYQlAEEZQBBGUBQBhCUAQRlAEEZQFAGEJQBBGUAQRlAUAYQlAEEZQDxB5c4zG/+Z03pAAAAAElFTkSuQmCC\" y=\"-127.31504\"/>\n   </g>\n   <g id=\"matplotlib.axis_9\">\n    <g id=\"xtick_13\">\n     <g id=\"line2d_25\">\n      <g>\n       <use style=\"stroke:#000000;stroke-width:0.8;\" x=\"146.848109\" xlink:href=\"#ma242b6736d\" y=\"226.31504\"/>\n      </g>\n     </g>\n     <g id=\"text_25\">\n      <!-- 0 -->\n      <g transform=\"translate(143.666859 240.913477)scale(0.1 -0.1)\">\n       <use xlink:href=\"#DejaVuSans-48\"/>\n      </g>\n     </g>\n    </g>\n    <g id=\"xtick_14\">\n     <g id=\"line2d_26\">\n      <g>\n       <use style=\"stroke:#000000;stroke-width:0.8;\" x=\"182.016176\" xlink:href=\"#ma242b6736d\" y=\"226.31504\"/>\n      </g>\n     </g>\n     <g id=\"text_26\">\n      <!-- 10 -->\n      <g transform=\"translate(175.653676 240.913477)scale(0.1 -0.1)\">\n       <use xlink:href=\"#DejaVuSans-49\"/>\n       <use x=\"63.623047\" xlink:href=\"#DejaVuSans-48\"/>\n      </g>\n     </g>\n    </g>\n    <g id=\"xtick_15\">\n     <g id=\"line2d_27\">\n      <g>\n       <use style=\"stroke:#000000;stroke-width:0.8;\" x=\"217.184244\" xlink:href=\"#ma242b6736d\" y=\"226.31504\"/>\n      </g>\n     </g>\n     <g id=\"text_27\">\n      <!-- 20 -->\n      <g transform=\"translate(210.821744 240.913477)scale(0.1 -0.1)\">\n       <use xlink:href=\"#DejaVuSans-50\"/>\n       <use x=\"63.623047\" xlink:href=\"#DejaVuSans-48\"/>\n      </g>\n     </g>\n    </g>\n   </g>\n   <g id=\"matplotlib.axis_10\">\n    <g id=\"ytick_13\">\n     <g id=\"line2d_28\">\n      <g>\n       <use style=\"stroke:#000000;stroke-width:0.8;\" x=\"145.089706\" xlink:href=\"#m4e2c79d7ad\" y=\"129.602855\"/>\n      </g>\n     </g>\n     <g id=\"text_28\">\n      <!-- 0 -->\n      <g transform=\"translate(131.727206 133.402074)scale(0.1 -0.1)\">\n       <use xlink:href=\"#DejaVuSans-48\"/>\n      </g>\n     </g>\n    </g>\n    <g id=\"ytick_14\">\n     <g id=\"line2d_29\">\n      <g>\n       <use style=\"stroke:#000000;stroke-width:0.8;\" x=\"145.089706\" xlink:href=\"#m4e2c79d7ad\" y=\"164.770922\"/>\n      </g>\n     </g>\n     <g id=\"text_29\">\n      <!-- 10 -->\n      <g transform=\"translate(125.364706 168.570141)scale(0.1 -0.1)\">\n       <use xlink:href=\"#DejaVuSans-49\"/>\n       <use x=\"63.623047\" xlink:href=\"#DejaVuSans-48\"/>\n      </g>\n     </g>\n    </g>\n    <g id=\"ytick_15\">\n     <g id=\"line2d_30\">\n      <g>\n       <use style=\"stroke:#000000;stroke-width:0.8;\" x=\"145.089706\" xlink:href=\"#m4e2c79d7ad\" y=\"199.93899\"/>\n      </g>\n     </g>\n     <g id=\"text_30\">\n      <!-- 20 -->\n      <g transform=\"translate(125.364706 203.738208)scale(0.1 -0.1)\">\n       <use xlink:href=\"#DejaVuSans-50\"/>\n       <use x=\"63.623047\" xlink:href=\"#DejaVuSans-48\"/>\n      </g>\n     </g>\n    </g>\n   </g>\n   <g id=\"patch_23\">\n    <path d=\"M 145.089706 226.31504 \nL 145.089706 127.844452 \n\" style=\"fill:none;stroke:#000000;stroke-linecap:square;stroke-linejoin:miter;stroke-width:0.8;\"/>\n   </g>\n   <g id=\"patch_24\">\n    <path d=\"M 243.560294 226.31504 \nL 243.560294 127.844452 \n\" style=\"fill:none;stroke:#000000;stroke-linecap:square;stroke-linejoin:miter;stroke-width:0.8;\"/>\n   </g>\n   <g id=\"patch_25\">\n    <path d=\"M 145.089706 226.31504 \nL 243.560294 226.31504 \n\" style=\"fill:none;stroke:#000000;stroke-linecap:square;stroke-linejoin:miter;stroke-width:0.8;\"/>\n   </g>\n   <g id=\"patch_26\">\n    <path d=\"M 145.089706 127.844452 \nL 243.560294 127.844452 \n\" style=\"fill:none;stroke:#000000;stroke-linecap:square;stroke-linejoin:miter;stroke-width:0.8;\"/>\n   </g>\n  </g>\n  <g id=\"axes_6\">\n   <g id=\"patch_27\">\n    <path d=\"M 263.254412 226.31504 \nL 361.725 226.31504 \nL 361.725 127.844452 \nL 263.254412 127.844452 \nz\n\" style=\"fill:#ffffff;\"/>\n   </g>\n   <g clip-path=\"url(#p93c357172d)\">\n    <image height=\"99\" id=\"image2ec2fc0921\" transform=\"scale(1 -1)translate(0 -99)\" width=\"99\" x=\"263.254412\" xlink:href=\"data:image/png;base64,\niVBORw0KGgoAAAANSUhEUgAAAGMAAABjCAYAAACPO76VAAAABHNCSVQICAgIfAhkiAAAAx5JREFUeJztnLFqakEQhjd6o2KTkFiJWFlqpSCkt9FCUsfCThTBBxA7fQSfwMJGLNIE20AqFSxsUwRSJsROSIKm27uzF71IXP2P/F81w5yEIV9m97jqOVNKrRWBwHfsBshfKAMIygCCMoCgDCAoAwjKAIIygKAMICgDiD/HbmAb0WhUx+12W9Sm06mOu93uwXpyCScDCMoAAmqZ8vv9Iu90Ojoul8sbr+UyRfYOZQBBGUBA7Rk+n/zfyGQyG69NJBKu2zk4nAwgKAMIqGXq6+tL5M/PzzpOJpOiFgqFdHx+fr7193gFTgYQlAEEZQABtWfYjEYjHReLRVGLx+M6vri4ELW3tze3jTmCkwEEZQABvUy9v79vrEUiER03Gg1Ra7VaznpyCScDCMoAgjKAOFPA38+IxWI6fnl5ETXzhHc+n4taKpVy25gjOBlAUAYQ0MuUSa/XE3mpVNLxYrEQtVwuJ/LJZOKusT3CyQCCMoCgDCCgj0NMBoOByM094/LyUtQqlYrIuWeQnaEMIDyzTNknuKvVSsf2563sW1uvwMkAgjKAoAwgPHMcYmMej5i3uUr9ezxinuK+vr66bewXcDKAoAwgKAMIz7zOsDGPOOw9wz4eqVarOm42m24b+wWcDCAoAwjP3tre3Nzo+Onpaeu1Hx8fOr66unLW02/hZABBGUBQBhCe3TNM7D3D3E+UUurz81PH2WxW1GazmbvGdoSTAQRlAOHZV+Amj4+PIreXqUAgoGPzST1KKVUoFNw1tiOcDCAoAwjKAOIkbm3tp++Mx+ON135/f4vcftTFMeFkAEEZQJzEMhUMBkVuvyJPp9Mbfzafz+v44eFhv43tCCcDCMoAgjKAOIk9w+b29lbkw+Fw47X9fl/Hd3d3orZeH/ZPw8kAgjKAOMll6vr6WuTmG0jmUxdswuGwyJfL5X4b+w+cDCAoAwjKAOIk3umzsb//V6vVdHx/fy9q9Xpdx+YHF44BJwMIygDiJG9tvQonAwjKAIIygKAMICgDCMoAgjKAoAwgKAMIygCCMoCgDCAoAwjKAIIygKAMICgDiB864JIxOB5n0gAAAABJRU5ErkJggg==\" y=\"-127.31504\"/>\n   </g>\n   <g id=\"matplotlib.axis_11\">\n    <g id=\"xtick_16\">\n     <g id=\"line2d_31\">\n      <g>\n       <use style=\"stroke:#000000;stroke-width:0.8;\" x=\"265.012815\" xlink:href=\"#ma242b6736d\" y=\"226.31504\"/>\n      </g>\n     </g>\n     <g id=\"text_31\">\n      <!-- 0 -->\n      <g transform=\"translate(261.831565 240.913477)scale(0.1 -0.1)\">\n       <use xlink:href=\"#DejaVuSans-48\"/>\n      </g>\n     </g>\n    </g>\n    <g id=\"xtick_17\">\n     <g id=\"line2d_32\">\n      <g>\n       <use style=\"stroke:#000000;stroke-width:0.8;\" x=\"300.180882\" xlink:href=\"#ma242b6736d\" y=\"226.31504\"/>\n      </g>\n     </g>\n     <g id=\"text_32\">\n      <!-- 10 -->\n      <g transform=\"translate(293.818382 240.913477)scale(0.1 -0.1)\">\n       <use xlink:href=\"#DejaVuSans-49\"/>\n       <use x=\"63.623047\" xlink:href=\"#DejaVuSans-48\"/>\n      </g>\n     </g>\n    </g>\n    <g id=\"xtick_18\">\n     <g id=\"line2d_33\">\n      <g>\n       <use style=\"stroke:#000000;stroke-width:0.8;\" x=\"335.34895\" xlink:href=\"#ma242b6736d\" y=\"226.31504\"/>\n      </g>\n     </g>\n     <g id=\"text_33\">\n      <!-- 20 -->\n      <g transform=\"translate(328.98645 240.913477)scale(0.1 -0.1)\">\n       <use xlink:href=\"#DejaVuSans-50\"/>\n       <use x=\"63.623047\" xlink:href=\"#DejaVuSans-48\"/>\n      </g>\n     </g>\n    </g>\n   </g>\n   <g id=\"matplotlib.axis_12\">\n    <g id=\"ytick_16\">\n     <g id=\"line2d_34\">\n      <g>\n       <use style=\"stroke:#000000;stroke-width:0.8;\" x=\"263.254412\" xlink:href=\"#m4e2c79d7ad\" y=\"129.602855\"/>\n      </g>\n     </g>\n     <g id=\"text_34\">\n      <!-- 0 -->\n      <g transform=\"translate(249.891912 133.402074)scale(0.1 -0.1)\">\n       <use xlink:href=\"#DejaVuSans-48\"/>\n      </g>\n     </g>\n    </g>\n    <g id=\"ytick_17\">\n     <g id=\"line2d_35\">\n      <g>\n       <use style=\"stroke:#000000;stroke-width:0.8;\" x=\"263.254412\" xlink:href=\"#m4e2c79d7ad\" y=\"164.770922\"/>\n      </g>\n     </g>\n     <g id=\"text_35\">\n      <!-- 10 -->\n      <g transform=\"translate(243.529412 168.570141)scale(0.1 -0.1)\">\n       <use xlink:href=\"#DejaVuSans-49\"/>\n       <use x=\"63.623047\" xlink:href=\"#DejaVuSans-48\"/>\n      </g>\n     </g>\n    </g>\n    <g id=\"ytick_18\">\n     <g id=\"line2d_36\">\n      <g>\n       <use style=\"stroke:#000000;stroke-width:0.8;\" x=\"263.254412\" xlink:href=\"#m4e2c79d7ad\" y=\"199.93899\"/>\n      </g>\n     </g>\n     <g id=\"text_36\">\n      <!-- 20 -->\n      <g transform=\"translate(243.529412 203.738208)scale(0.1 -0.1)\">\n       <use xlink:href=\"#DejaVuSans-50\"/>\n       <use x=\"63.623047\" xlink:href=\"#DejaVuSans-48\"/>\n      </g>\n     </g>\n    </g>\n   </g>\n   <g id=\"patch_28\">\n    <path d=\"M 263.254412 226.31504 \nL 263.254412 127.844452 \n\" style=\"fill:none;stroke:#000000;stroke-linecap:square;stroke-linejoin:miter;stroke-width:0.8;\"/>\n   </g>\n   <g id=\"patch_29\">\n    <path d=\"M 361.725 226.31504 \nL 361.725 127.844452 \n\" style=\"fill:none;stroke:#000000;stroke-linecap:square;stroke-linejoin:miter;stroke-width:0.8;\"/>\n   </g>\n   <g id=\"patch_30\">\n    <path d=\"M 263.254412 226.31504 \nL 361.725 226.31504 \n\" style=\"fill:none;stroke:#000000;stroke-linecap:square;stroke-linejoin:miter;stroke-width:0.8;\"/>\n   </g>\n   <g id=\"patch_31\">\n    <path d=\"M 263.254412 127.844452 \nL 361.725 127.844452 \n\" style=\"fill:none;stroke:#000000;stroke-linecap:square;stroke-linejoin:miter;stroke-width:0.8;\"/>\n   </g>\n  </g>\n </g>\n <defs>\n  <clipPath id=\"p3359e5d80f\">\n   <rect height=\"98.470588\" width=\"98.470588\" x=\"26.925\" y=\"9.240815\"/>\n  </clipPath>\n  <clipPath id=\"p503634ce3a\">\n   <rect height=\"98.470588\" width=\"98.470588\" x=\"145.089706\" y=\"9.240815\"/>\n  </clipPath>\n  <clipPath id=\"p687aae19e3\">\n   <rect height=\"98.470588\" width=\"98.470588\" x=\"263.254412\" y=\"9.240815\"/>\n  </clipPath>\n  <clipPath id=\"pd9506633c0\">\n   <rect height=\"98.470588\" width=\"98.470588\" x=\"26.925\" y=\"127.844452\"/>\n  </clipPath>\n  <clipPath id=\"pea307b347c\">\n   <rect height=\"98.470588\" width=\"98.470588\" x=\"145.089706\" y=\"127.844452\"/>\n  </clipPath>\n  <clipPath id=\"p93c357172d\">\n   <rect height=\"98.470588\" width=\"98.470588\" x=\"263.254412\" y=\"127.844452\"/>\n  </clipPath>\n </defs>\n</svg>\n",
      "image/png": "[encoded data removed]"
     },
     "metadata": {
      "needs_background": "light"
     }
    }
   ],
   "source": [
    "examples = iter(test_loader)\n",
    "example_data, example_targets = examples.next()\n",
    "\n",
    "for i in range(6):\n",
    "    plt.subplot(2,3,i+1)\n",
    "    plt.imshow(example_data[i][0], cmap='gray')\n",
    "#plt.show()\n",
    "\n",
    "############## TENSORBOARD ########################\n",
    "img_grid = torchvision.utils.make_grid(example_data)\n",
    "writer.add_image('mnist_images', img_grid)\n",
    "# writer.close()\n",
    "# sys.exit()\n",
    "###################################################"
   ]
  },
  {
   "cell_type": "code",
   "execution_count": 5,
   "metadata": {},
   "outputs": [],
   "source": [
    "# Fully connected neural network with one hidden layer\n",
    "class NeuralNet(nn.Module):\n",
    "    def __init__(self, input_size, hidden_size, num_classes):\n",
    "        super(NeuralNet, self).__init__()\n",
    "        self.input_size = input_size\n",
    "        self.l1 = nn.Linear(input_size, hidden_size) \n",
    "        self.relu = nn.ReLU()\n",
    "        self.l2 = nn.Linear(hidden_size, num_classes)  \n",
    "    \n",
    "    def forward(self, x):\n",
    "        out = self.l1(x)\n",
    "        out = self.relu(out)\n",
    "        out = self.l2(out)\n",
    "        # no activation and no softmax at the end\n",
    "        return out\n",
    "\n",
    "model = NeuralNet(input_size, hidden_size, num_classes).to(device)\n",
    "\n",
    "# Loss and optimizer\n",
    "criterion = nn.CrossEntropyLoss()\n",
    "optimizer = torch.optim.Adam(model.parameters(), lr=learning_rate)  \n",
    "\n",
    "############## TENSORBOARD ########################\n",
    "writer.add_graph(model, example_data.reshape(-1, 28*28).to(device))\n",
    "# writer.close()\n",
    "# sys.exit()\n",
    "###################################################"
   ]
  },
  {
   "cell_type": "code",
   "execution_count": 6,
   "metadata": {},
   "outputs": [
    {
     "output_type": "stream",
     "name": "stdout",
     "text": [
      "Epoch [1/4], Step [100/938], Loss: 0.1642\n",
      "Epoch [1/4], Step [200/938], Loss: 0.1466\n",
      "Epoch [1/4], Step [300/938], Loss: 0.3266\n",
      "Epoch [1/4], Step [400/938], Loss: 0.2402\n",
      "Epoch [1/4], Step [500/938], Loss: 0.2156\n",
      "Epoch [1/4], Step [600/938], Loss: 0.2116\n",
      "Epoch [1/4], Step [700/938], Loss: 0.2103\n",
      "Epoch [1/4], Step [800/938], Loss: 0.0723\n",
      "Epoch [1/4], Step [900/938], Loss: 0.0856\n",
      "Epoch [2/4], Step [100/938], Loss: 0.0942\n",
      "Epoch [2/4], Step [200/938], Loss: 0.0260\n",
      "Epoch [2/4], Step [300/938], Loss: 0.1965\n",
      "Epoch [2/4], Step [400/938], Loss: 0.0173\n",
      "Epoch [2/4], Step [500/938], Loss: 0.3512\n",
      "Epoch [2/4], Step [600/938], Loss: 0.3229\n",
      "Epoch [2/4], Step [700/938], Loss: 0.0590\n",
      "Epoch [2/4], Step [800/938], Loss: 0.1236\n",
      "Epoch [2/4], Step [900/938], Loss: 0.0050\n",
      "Epoch [3/4], Step [100/938], Loss: 0.0199\n",
      "Epoch [3/4], Step [200/938], Loss: 0.0101\n",
      "Epoch [3/4], Step [300/938], Loss: 0.1055\n",
      "Epoch [3/4], Step [400/938], Loss: 0.0810\n",
      "Epoch [3/4], Step [500/938], Loss: 0.1337\n",
      "Epoch [3/4], Step [600/938], Loss: 0.0203\n",
      "Epoch [3/4], Step [700/938], Loss: 0.0301\n",
      "Epoch [3/4], Step [800/938], Loss: 0.1200\n",
      "Epoch [3/4], Step [900/938], Loss: 0.0407\n",
      "Epoch [4/4], Step [100/938], Loss: 0.0961\n",
      "Epoch [4/4], Step [200/938], Loss: 0.0843\n",
      "Epoch [4/4], Step [300/938], Loss: 0.2703\n",
      "Epoch [4/4], Step [400/938], Loss: 0.0353\n",
      "Epoch [4/4], Step [500/938], Loss: 0.1694\n",
      "Epoch [4/4], Step [600/938], Loss: 0.3247\n",
      "Epoch [4/4], Step [700/938], Loss: 0.2357\n",
      "Epoch [4/4], Step [800/938], Loss: 0.1284\n",
      "Epoch [4/4], Step [900/938], Loss: 0.0984\n"
     ]
    }
   ],
   "source": [
    "# Train the model\n",
    "running_loss = 0.0\n",
    "running_correct = 0\n",
    "n_total_steps = len(train_loader)\n",
    "for epoch in range(num_epochs):\n",
    "    for i, (images, labels) in enumerate(train_loader):  \n",
    "        # origin shape: [100, 1, 28, 28]\n",
    "        # resized: [100, 784]\n",
    "        images = images.reshape(-1, 28*28).to(device)\n",
    "        labels = labels.to(device)\n",
    "        \n",
    "        # Forward pass\n",
    "        outputs = model(images)\n",
    "        loss = criterion(outputs, labels)\n",
    "        \n",
    "        # Backward and optimize\n",
    "        optimizer.zero_grad()\n",
    "        loss.backward()\n",
    "        optimizer.step()\n",
    "        \n",
    "        running_loss += loss.item()\n",
    "\n",
    "        _, predicted = torch.max(outputs.data, 1)\n",
    "        running_correct += (predicted == labels).sum().item()\n",
    "\n",
    "        if (i+1) % 100 == 0:\n",
    "            print (f'Epoch [{epoch+1}/{num_epochs}], Step [{i+1}/{n_total_steps}], Loss: {loss.item():.4f}')\n",
    "            ############## TENSORBOARD ########################\n",
    "            writer.add_scalar('training loss', running_loss / 100, epoch * n_total_steps + i)\n",
    "            running_accuracy = running_correct / 100 / predicted.size(0)\n",
    "            writer.add_scalar('accuracy', running_accuracy, epoch * n_total_steps + i)\n",
    "            running_correct = 0\n",
    "            running_loss = 0.0\n",
    "            ###################################################"
   ]
  },
  {
   "cell_type": "code",
   "execution_count": 7,
   "metadata": {},
   "outputs": [
    {
     "output_type": "stream",
     "name": "stdout",
     "text": [
      "Accuracy of the network on the 10000 test images: 96.66 %\n"
     ]
    }
   ],
   "source": [
    "# Test the model\n",
    "# In test phase, we don't need to compute gradients (for memory efficiency)\n",
    "class_labels = []\n",
    "class_preds = []\n",
    "with torch.no_grad():\n",
    "    n_correct = 0\n",
    "    n_samples = 0\n",
    "    for images, labels in test_loader:\n",
    "        images = images.reshape(-1, 28*28).to(device)\n",
    "        labels = labels.to(device)\n",
    "        outputs = model(images)\n",
    "        # max returns (value ,index)\n",
    "        values, predicted = torch.max(outputs.data, 1)\n",
    "        n_samples += labels.size(0)\n",
    "        n_correct += (predicted == labels).sum().item()\n",
    "\n",
    "        class_probs_batch = [F.softmax(output, dim=0) for output in outputs]\n",
    "\n",
    "        class_preds.append(class_probs_batch)\n",
    "        class_labels.append(predicted)\n",
    "\n",
    "    # 10000, 10, and 10000, 1\n",
    "    # stack concatenates tensors along a new dimension\n",
    "    # cat concatenates tensors in the given dimension\n",
    "    class_preds = torch.cat([torch.stack(batch) for batch in class_preds])\n",
    "    class_labels = torch.cat(class_labels)\n",
    "\n",
    "    acc = 100.0 * n_correct / n_samples\n",
    "    print(f'Accuracy of the network on the 10000 test images: {acc} %')\n",
    "    \n",
    "    ############## TENSORBOARD ########################\n",
    "    classes = range(10)\n",
    "    for i in classes:\n",
    "        labels_i = class_labels == i\n",
    "        preds_i = class_preds[:, i]\n",
    "        writer.add_pr_curve(str(i), labels_i, preds_i, global_step=0)\n",
    "        writer.close()\n",
    "    ###################################################"
   ]
  },
  {
   "cell_type": "code",
   "execution_count": null,
   "metadata": {},
   "outputs": [],
   "source": []
  }
 ]
}